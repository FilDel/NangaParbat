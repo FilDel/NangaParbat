{
 "cells": [
  {
   "cell_type": "code",
   "execution_count": 5,
   "metadata": {},
   "outputs": [
    {
     "data": {
      "text/plain": [
       "0.797126078482719"
      ]
     },
     "execution_count": 5,
     "metadata": {},
     "output_type": "execute_result"
    }
   ],
   "source": [
    "import numpy as np\n",
    "\n",
    "def y(xF, Q, Vs):\n",
    "    return np.log(Vs * ( xF + np.sqrt( xF**2 + 4 * Q**2 / Vs**2 ) ) / 2 / Q)\n",
    "\n",
    "tqT = [5, 1.666666666666667, 1.0, 0.714285714285714, 0.555555555555556, 0.454545454545455, 0.384615384615385, 0.333333333333333, 0.294117647058824, 0.263157894736842, 0.238095238095238, 0.217391304347826, 0.2, 0.185185185185185]\n",
    "Q = ( 7 + 8 ) / 2\n",
    "xF = -0.1\n",
    "Vs = 38.8\n",
    "\n",
    "Vs / 2 / Q / np.cosh(y(xF, Q, Vs)) / np.pi\n",
    "\n"
   ]
  },
  {
   "cell_type": "code",
   "execution_count": 6,
   "metadata": {},
   "outputs": [
    {
     "data": {
      "text/plain": [
       "-0.25586570928275165"
      ]
     },
     "execution_count": 6,
     "metadata": {},
     "output_type": "execute_result"
    }
   ],
   "source": [
    "y(xF, Q, Vs)"
   ]
  },
  {
   "cell_type": "code",
   "execution_count": null,
   "metadata": {},
   "outputs": [],
   "source": []
  }
 ],
 "metadata": {
  "kernelspec": {
   "display_name": "Python 3",
   "language": "python",
   "name": "python3"
  },
  "language_info": {
   "codemirror_mode": {
    "name": "ipython",
    "version": 3
   },
   "file_extension": ".py",
   "mimetype": "text/x-python",
   "name": "python",
   "nbconvert_exporter": "python",
   "pygments_lexer": "ipython3",
   "version": "3.7.3"
  }
 },
 "nbformat": 4,
 "nbformat_minor": 2
}
